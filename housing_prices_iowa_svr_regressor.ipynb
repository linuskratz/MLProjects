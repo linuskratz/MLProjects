{
 "cells": [
  {
   "cell_type": "code",
   "execution_count": 1410,
   "id": "ded75d17",
   "metadata": {},
   "outputs": [],
   "source": [
    "import pandas as pd\n",
    "import numpy as np\n",
    "from scipy.stats import skew \n",
    "import matplotlib.pyplot as plt\n",
    "from scipy.special import boxcox1p\n",
    "from sklearn.feature_selection import mutual_info_regression\n"
   ]
  },
  {
   "cell_type": "code",
   "execution_count": 1411,
   "id": "1ea4be94",
   "metadata": {},
   "outputs": [],
   "source": [
    "train = pd.read_csv(\"/Users/linuskratz/Downloads/house-prices-advanced-regression-techniques/train.csv\")\n",
    "test = pd.read_csv(\"/Users/linuskratz/Downloads/house-prices-advanced-regression-techniques/test.csv\")"
   ]
  },
  {
   "cell_type": "code",
   "execution_count": 1412,
   "id": "3a5b7952",
   "metadata": {},
   "outputs": [
    {
     "data": {
      "text/plain": [
       "1460"
      ]
     },
     "execution_count": 1412,
     "metadata": {},
     "output_type": "execute_result"
    }
   ],
   "source": [
    "len(train)"
   ]
  },
  {
   "cell_type": "code",
   "execution_count": 1413,
   "id": "a11dbbe3",
   "metadata": {},
   "outputs": [
    {
     "data": {
      "text/plain": [
       "1459"
      ]
     },
     "execution_count": 1413,
     "metadata": {},
     "output_type": "execute_result"
    }
   ],
   "source": [
    "len(test)"
   ]
  },
  {
   "cell_type": "code",
   "execution_count": 1414,
   "id": "d8e7b4ad",
   "metadata": {},
   "outputs": [
    {
     "data": {
      "text/plain": [
       "180881.39739190118"
      ]
     },
     "execution_count": 1414,
     "metadata": {},
     "output_type": "execute_result"
    }
   ],
   "source": [
    "train_Y.mean()"
   ]
  },
  {
   "cell_type": "code",
   "execution_count": 1415,
   "id": "da8aefe9",
   "metadata": {},
   "outputs": [],
   "source": [
    "train_id = train.pop(\"Id\")\n",
    "test_id = test.pop(\"Id\")\n",
    "train_Y = train.pop(\"SalePrice\")\n",
    "train_X = train\n",
    "total_X = pd.concat([train_X, test])"
   ]
  },
  {
   "cell_type": "markdown",
   "id": "c5adf612",
   "metadata": {},
   "source": [
    "<h2>Fix the Skew of the Dataset<h2>"
   ]
  },
  {
   "cell_type": "code",
   "execution_count": 1416,
   "id": "33186b71",
   "metadata": {},
   "outputs": [],
   "source": [
    "# As a challenge I wanted to solve a task using the SVR regressor. \n",
    "# The SVR Regressor is sensitive to skewed datasets. \n",
    "# The variance of the most skewed features (either right or left longtail distribution) are to be stabilized\n",
    "\n",
    "numeric_feats = total_X.dtypes[train_X.dtypes != \"object\"].index\n",
    "\n",
    "# Check the skew of all numerical features\n",
    "skewed_feats = total_X[numeric_feats].apply(lambda x: skew(x.dropna())).sort_values(ascending=False)\n",
    "\n",
    "skewness = pd.DataFrame({'Skew' :skewed_feats})\n",
    "skewness = skewness[abs(skewness) > 1]\n",
    "\n",
    "skewed_features = skewness.index\n",
    "lam = 0.15\n",
    "for feat in skewed_features:\n",
    "    total_X[feat] = boxcox1p(total_X[feat], lam)"
   ]
  },
  {
   "cell_type": "code",
   "execution_count": 1417,
   "id": "38519427",
   "metadata": {},
   "outputs": [
    {
     "data": {
      "text/plain": [
       "MiscVal         21.947195\n",
       "PoolArea        16.898328\n",
       "LotArea         12.822431\n",
       "LowQualFinSF    12.088761\n",
       "3SsnPorch       11.376065\n",
       "dtype: float64"
      ]
     },
     "execution_count": 1417,
     "metadata": {},
     "output_type": "execute_result"
    }
   ],
   "source": [
    "skewed_feats.head()"
   ]
  },
  {
   "cell_type": "markdown",
   "id": "d00a40a9",
   "metadata": {},
   "source": [
    "<h2>FILL NA Columns\t<h2>"
   ]
  },
  {
   "cell_type": "code",
   "execution_count": 1418,
   "id": "162aede8",
   "metadata": {},
   "outputs": [
    {
     "data": {
      "text/plain": [
       "GarageCars         1\n",
       "GarageArea         1\n",
       "KitchenQual        1\n",
       "Electrical         1\n",
       "SaleType           1\n",
       "Exterior1st        1\n",
       "TotalBsmtSF        1\n",
       "BsmtUnfSF          1\n",
       "Exterior2nd        1\n",
       "BsmtFinSF1         1\n",
       "BsmtFinSF2         1\n",
       "BsmtFullBath       2\n",
       "Functional         2\n",
       "Utilities          2\n",
       "BsmtHalfBath       2\n",
       "MSZoning           4\n",
       "MasVnrArea        23\n",
       "MasVnrType        24\n",
       "BsmtFinType1      79\n",
       "BsmtFinType2      80\n",
       "BsmtQual          81\n",
       "BsmtExposure      82\n",
       "BsmtCond          82\n",
       "GarageType       157\n",
       "GarageFinish     159\n",
       "GarageYrBlt      159\n",
       "GarageQual       159\n",
       "GarageCond       159\n",
       "LotFrontage      486\n",
       "FireplaceQu     1420\n",
       "Fence           2348\n",
       "Alley           2721\n",
       "MiscFeature     2814\n",
       "PoolQC          2909\n",
       "dtype: int64"
      ]
     },
     "execution_count": 1418,
     "metadata": {},
     "output_type": "execute_result"
    }
   ],
   "source": [
    "NAN_columns = total_X.isnull().sum().sort_values()\n",
    "NAN_columns[NAN_columns > 0]"
   ]
  },
  {
   "cell_type": "code",
   "execution_count": 1419,
   "id": "0e964e23",
   "metadata": {},
   "outputs": [],
   "source": [
    "# for these features N/A refer to not having X in the house\n",
    "\n",
    "features = [\"BsmtFinType2\", \"BsmtFinType1\", \"BsmtExposure\", \"BsmtQual\", \"BsmtCond\", \"GarageType\", \"GarageFinish\", \n",
    "         \"GarageYrBlt\", \"GarageQual\", \"GarageCond\", \"FireplaceQu\", \"Fence\", \"Alley\", \"MiscFeature\", \"PoolQC\"]\n",
    "\n",
    "for cat in features: \n",
    "    total_X[cat] = total_X[cat].fillna(\"0\")"
   ]
  },
  {
   "cell_type": "code",
   "execution_count": 1420,
   "id": "946e4c0b",
   "metadata": {},
   "outputs": [],
   "source": [
    "# for these other features N/A values indicate missing Values; fill with mode\n",
    "\n",
    "for colname in total_X.select_dtypes(\"object\"):\n",
    "    total_X[colname]= total_X[colname].fillna(total_X[colname].mode()[0])\n",
    "    #total_X[colname], _ = pd.factorize(total_X[colname])"
   ]
  },
  {
   "cell_type": "code",
   "execution_count": 1421,
   "id": "9795f6cb",
   "metadata": {},
   "outputs": [],
   "source": [
    "# for these features N/A values indicate missing Values; fill with mean\n",
    "for cat in total_X.select_dtypes([\"float64\", \"int64\"]): \n",
    "    total_X[cat] = total_X[cat].fillna(total_X[cat].mean())"
   ]
  },
  {
   "cell_type": "code",
   "execution_count": 1422,
   "id": "b01d7959",
   "metadata": {},
   "outputs": [],
   "source": [
    "# Some of the non-numeric predictors are stored as numbers; convert them into strings \n",
    "total_X['MSSubClass'] = total_X['MSSubClass'].apply(str)\n",
    "total_X['YrSold'] = total_X['YrSold'].astype(str)\n",
    "total_X['MoSold'] = total_X['MoSold'].astype(str)"
   ]
  },
  {
   "cell_type": "code",
   "execution_count": 1423,
   "id": "e01e4678",
   "metadata": {},
   "outputs": [
    {
     "data": {
      "text/plain": [
       "0"
      ]
     },
     "execution_count": 1423,
     "metadata": {},
     "output_type": "execute_result"
    }
   ],
   "source": [
    "total_X.isnull().sum().sum()"
   ]
  },
  {
   "cell_type": "markdown",
   "id": "c7d0289e",
   "metadata": {},
   "source": [
    "<h2> Observe which features correlate with Target <h2>"
   ]
  },
  {
   "cell_type": "code",
   "execution_count": 1424,
   "id": "1b1584a1",
   "metadata": {},
   "outputs": [],
   "source": [
    "train_X_copy = total_X[:len(train_X)].copy()\n",
    "\n",
    "discrete_features = train_X_copy.columns.get_indexer(train_X_copy.select_dtypes('object').columns)\n",
    "\n",
    "#mutual information needs numerical types to function \n",
    "for colname in train_X_copy.select_dtypes(\"object\"):\n",
    "    train_X_copy[colname], _= pd.factorize(train_X_copy[colname])\n",
    "\n",
    "mi_scores = mutual_info_regression(train_X_copy, train_Y, discrete_features=discrete_features)\n",
    "mi_scores = pd.Series(mi_scores, name=\"MI Scores\", index=train_X_copy.columns)\n",
    "mi_scores = mi_scores.sort_values()"
   ]
  },
  {
   "cell_type": "code",
   "execution_count": 1425,
   "id": "3a522246",
   "metadata": {},
   "outputs": [
    {
     "data": {
      "text/plain": [
       "GrLivArea       0.490634\n",
       "Neighborhood    0.520624\n",
       "OverallQual     0.566935\n",
       "Name: MI Scores, dtype: float64"
      ]
     },
     "execution_count": 1425,
     "metadata": {},
     "output_type": "execute_result"
    }
   ],
   "source": [
    "# the goal is to remove any outliers in these very important categories for the predictor\n",
    "mi_scores[mi_scores >= 0.4]"
   ]
  },
  {
   "cell_type": "code",
   "execution_count": 1426,
   "id": "03928194",
   "metadata": {},
   "outputs": [
    {
     "data": {
      "text/plain": [
       "<matplotlib.collections.PathCollection at 0x143ed0520>"
      ]
     },
     "execution_count": 1426,
     "metadata": {},
     "output_type": "execute_result"
    },
    {
     "data": {
      "image/png": "[encoded data removed]",
      "text/plain": [
       "<Figure size 432x288 with 1 Axes>"
      ]
     },
     "metadata": {
      "needs_background": "light"
     },
     "output_type": "display_data"
    }
   ],
   "source": [
    "# plotting most relevant features and removing outliers \n",
    "# adding these outliers to the outlier list and removing them from the dataset\n",
    "plt.scatter(x=train_X_copy[\"OverallQual\"], y=train_Y)\n",
    "\n",
    "outliers = train_X_copy[(train_X_copy[\"OverallQual\"] > 2.88) & (train_Y <= 200000)].index\n",
    "outliers = outliers.append(train_X_copy[(train_X_copy[\"OverallQual\"] < 2) & (train_X_copy[\"OverallQual\"] > 1.6) & (train_Y > 200000)].index) \n",
    "\n",
    "plt.scatter(x=train_X_copy.loc[outliers, \"OverallQual\"], y = train_Y[outliers], color = \"r\")"
   ]
  },
  {
   "cell_type": "code",
   "execution_count": 1427,
   "id": "e269919c",
   "metadata": {},
   "outputs": [
    {
     "data": {
      "image/png": "[encoded data removed]",
      "text/plain": [
       "<Figure size 432x288 with 1 Axes>"
      ]
     },
     "metadata": {
      "needs_background": "light"
     },
     "output_type": "display_data"
    }
   ],
   "source": [
    "plt.scatter(x=train_X_copy[\"Neighborhood\"], y=train_Y)\n",
    "\n",
    "new_outliers = train_X_copy[(train_X_copy[\"Neighborhood\"] == 3) & (train_Y >= 600000)].index\n",
    "new_outliers = new_outliers.append(train_X_copy[(train_X_copy[\"Neighborhood\"] == 7) & (train_Y > 400000)].index) \n",
    "\n",
    "plt.scatter(x=train_X_copy.loc[new_outliers, \"Neighborhood\"], y = train_Y[new_outliers], color = \"r\")\n",
    "\n",
    "outliers = outliers.append(new_outliers)"
   ]
  },
  {
   "cell_type": "code",
   "execution_count": 1428,
   "id": "479b160a",
   "metadata": {},
   "outputs": [
    {
     "data": {
      "image/png": "[encoded data removed]",
      "text/plain": [
       "<Figure size 432x288 with 1 Axes>"
      ]
     },
     "metadata": {
      "needs_background": "light"
     },
     "output_type": "display_data"
    }
   ],
   "source": [
    "plt.scatter(x=train_X_copy[\"GrLivArea\"], y=train_Y)\n",
    "\n",
    "new_outliers = train_X_copy[(train_X_copy[\"GrLivArea\"] >= 17) & (train_Y <= 200000)].index\n",
    "\n",
    "plt.scatter(x=train_X_copy.loc[new_outliers, \"GrLivArea\"], y = train_Y[new_outliers], color = \"r\")\n",
    "outliers = outliers.append(new_outliers)"
   ]
  },
  {
   "cell_type": "code",
   "execution_count": 1429,
   "id": "ad9eb5c1",
   "metadata": {},
   "outputs": [],
   "source": [
    "#outliers which I considered removing when considering features with mi scores >= 0.2\n",
    "\n",
    "outliers_old = [523, 1298, 691, 1182, 581, 1061, 1190, 185, 420, 747, 1340, \\\n",
    "            1350, 1169, 457, 313, 608, 1046, 710, 635, 769, 1268, 1353, 803, \\\n",
    "           934, 1337, 803, 1457, 249, 313, 335, 706, 581, 1061, 1190, 1298]"
   ]
  },
  {
   "cell_type": "code",
   "execution_count": 1430,
   "id": "ce0eba52",
   "metadata": {},
   "outputs": [],
   "source": [
    "#insert dummy features for all categorical features (non ordinal)\n",
    "total_X =  pd.get_dummies(total_X)"
   ]
  },
  {
   "cell_type": "code",
   "execution_count": 1431,
   "id": "c24cd94b",
   "metadata": {},
   "outputs": [],
   "source": [
    "#removing outliers from the training set \n",
    "train_X = total_X[:len(train_X)]\n",
    "test_X = total_X[len(train_X):]\n",
    "\n",
    "train_X = train_X.drop(outliers)\n",
    "train_Y = train_Y.drop(outliers)"
   ]
  },
  {
   "cell_type": "markdown",
   "id": "4c1c6429",
   "metadata": {},
   "source": [
    "<h2> Testing Random Forest vs SVR Model <h2>"
   ]
  },
  {
   "cell_type": "code",
   "execution_count": 1432,
   "id": "99e107b5",
   "metadata": {},
   "outputs": [],
   "source": [
    "#using logarithmic scaling of features is not necessary for Random Forest Models but \n",
    "#it makes it easier to compare scores\n",
    "\n",
    "from sklearn.ensemble import RandomForestRegressor\n",
    "\n",
    "search_parameters = {\n",
    "    \"n_estimators\": [50, 100, 150], \n",
    "    \"min_samples_leaf\": [2, 3], \n",
    "    \"min_samples_split\" : [3, 4]\n",
    "}\n",
    "\n",
    "rfr = RandomForestRegressor()\n",
    "grid_rfr = GridSearchCV(estimator=rfr, param_grid=search_parameters, scoring=\"neg_root_mean_squared_error\", cv=3)\n",
    "grid_rfr = grid_rfr.fit(train_X, np.log1p(train_Y))"
   ]
  },
  {
   "cell_type": "code",
   "execution_count": 1435,
   "id": "53d7515f",
   "metadata": {},
   "outputs": [
    {
     "name": "stdout",
     "output_type": "stream",
     "text": [
      "best score: -0.13986711148598496 with params: {'min_samples_leaf': 3, 'min_samples_split': 4, 'n_estimators': 150}\n"
     ]
    }
   ],
   "source": [
    "print(f\"best score: {grid_rfr.best_score_} with params: {grid_rfr.best_params_}\")"
   ]
  },
  {
   "cell_type": "code",
   "execution_count": 1436,
   "id": "b901af16",
   "metadata": {},
   "outputs": [],
   "source": [
    "from sklearn.svm import SVR\n",
    "from sklearn.preprocessing import RobustScaler\n",
    "\n",
    "search_parameters= {    \n",
    "    \"C\": [10, 30, 50],\n",
    "    \"epsilon\" : [0.001, 0.1, 0.0001], \n",
    "    \"gamma\" : [0.0001, 0.001, 0.1]\n",
    "}\n",
    "\n",
    "# scaling is very important for \n",
    "scaler = RobustScaler()\n",
    "train_X_scal = scaler.fit_transform(train_X)\n",
    "\n",
    "\n",
    "# using the log1p for train_Y because the distribution is right longtail \n",
    "svr = SVR()\n",
    "grid_svr = GridSearchCV(estimator=svr, param_grid=search_parameters, scoring=\"neg_root_mean_squared_error\", cv=3)\n",
    "grid_svr = grid_svr.fit(train_X_scal, np.log1p(train_Y))"
   ]
  },
  {
   "cell_type": "code",
   "execution_count": 1437,
   "id": "3a0ded07",
   "metadata": {},
   "outputs": [
    {
     "name": "stdout",
     "output_type": "stream",
     "text": [
      "best score: -0.11317647233285515 with params: {'C': 10, 'epsilon': 0.001, 'gamma': 0.001}\n"
     ]
    }
   ],
   "source": [
    "print(f\"best score: {grid_svr.best_score_} with params: {grid_svr.best_params_}\")"
   ]
  },
  {
   "cell_type": "code",
   "execution_count": 1442,
   "id": "951046eb",
   "metadata": {},
   "outputs": [
    {
     "data": {
      "text/plain": [
       "{'C': 10, 'epsilon': 0.001, 'gamma': 0.001}"
      ]
     },
     "execution_count": 1442,
     "metadata": {},
     "output_type": "execute_result"
    }
   ],
   "source": [
    "grid_svr.best_params_"
   ]
  },
  {
   "cell_type": "code",
   "execution_count": 1443,
   "id": "33df226e",
   "metadata": {},
   "outputs": [
    {
     "data": {
      "text/plain": [
       "SVR(C=10, epsilon=0.001, gamma=0.001)"
      ]
     },
     "execution_count": 1443,
     "metadata": {},
     "output_type": "execute_result"
    }
   ],
   "source": [
    "svr = SVR() \n",
    "svr.set_params(**grid_svr.best_params_)\n",
    "svr.fit(train_X_scal, np.log1p(train_Y))"
   ]
  },
  {
   "cell_type": "markdown",
   "id": "7e2fbc8f",
   "metadata": {},
   "source": [
    "<h2> Create Prediction for test set <h2>"
   ]
  },
  {
   "cell_type": "code",
   "execution_count": 1444,
   "id": "31fc1155",
   "metadata": {},
   "outputs": [],
   "source": [
    "# we need to reverse the log_Y parameter\n",
    "prediction = np.expm1(svr.predict(scaler.transform(test_X)))"
   ]
  },
  {
   "cell_type": "code",
   "execution_count": 1445,
   "id": "d9ed116a",
   "metadata": {},
   "outputs": [],
   "source": [
    "#create prediction results\n",
    "df = pd.concat([test_id, pd.DataFrame(prediction, columns = [\"SalePrice\"])], axis = 1) "
   ]
  },
  {
   "cell_type": "code",
   "execution_count": 1446,
   "id": "3193ed3e",
   "metadata": {},
   "outputs": [
    {
     "data": {
      "text/html": [
       "<div>\n",
       "<style scoped>\n",
       "    .dataframe tbody tr th:only-of-type {\n",
       "        vertical-align: middle;\n",
       "    }\n",
       "\n",
       "    .dataframe tbody tr th {\n",
       "        vertical-align: top;\n",
       "    }\n",
       "\n",
       "    .dataframe thead th {\n",
       "        text-align: right;\n",
       "    }\n",
       "</style>\n",
       "<table border=\"1\" class=\"dataframe\">\n",
       "  <thead>\n",
       "    <tr style=\"text-align: right;\">\n",
       "      <th></th>\n",
       "      <th>Id</th>\n",
       "      <th>SalePrice</th>\n",
       "    </tr>\n",
       "  </thead>\n",
       "  <tbody>\n",
       "    <tr>\n",
       "      <th>0</th>\n",
       "      <td>1461</td>\n",
       "      <td>120943.448377</td>\n",
       "    </tr>\n",
       "    <tr>\n",
       "      <th>1</th>\n",
       "      <td>1462</td>\n",
       "      <td>172313.821210</td>\n",
       "    </tr>\n",
       "    <tr>\n",
       "      <th>2</th>\n",
       "      <td>1463</td>\n",
       "      <td>196518.732973</td>\n",
       "    </tr>\n",
       "    <tr>\n",
       "      <th>3</th>\n",
       "      <td>1464</td>\n",
       "      <td>202739.733733</td>\n",
       "    </tr>\n",
       "    <tr>\n",
       "      <th>4</th>\n",
       "      <td>1465</td>\n",
       "      <td>189277.094705</td>\n",
       "    </tr>\n",
       "    <tr>\n",
       "      <th>...</th>\n",
       "      <td>...</td>\n",
       "      <td>...</td>\n",
       "    </tr>\n",
       "    <tr>\n",
       "      <th>1454</th>\n",
       "      <td>2915</td>\n",
       "      <td>88947.551149</td>\n",
       "    </tr>\n",
       "    <tr>\n",
       "      <th>1455</th>\n",
       "      <td>2916</td>\n",
       "      <td>79107.513984</td>\n",
       "    </tr>\n",
       "    <tr>\n",
       "      <th>1456</th>\n",
       "      <td>2917</td>\n",
       "      <td>174819.897738</td>\n",
       "    </tr>\n",
       "    <tr>\n",
       "      <th>1457</th>\n",
       "      <td>2918</td>\n",
       "      <td>127800.434959</td>\n",
       "    </tr>\n",
       "    <tr>\n",
       "      <th>1458</th>\n",
       "      <td>2919</td>\n",
       "      <td>208203.853240</td>\n",
       "    </tr>\n",
       "  </tbody>\n",
       "</table>\n",
       "<p>1459 rows × 2 columns</p>\n",
       "</div>"
      ],
      "text/plain": [
       "        Id      SalePrice\n",
       "0     1461  120943.448377\n",
       "1     1462  172313.821210\n",
       "2     1463  196518.732973\n",
       "3     1464  202739.733733\n",
       "4     1465  189277.094705\n",
       "...    ...            ...\n",
       "1454  2915   88947.551149\n",
       "1455  2916   79107.513984\n",
       "1456  2917  174819.897738\n",
       "1457  2918  127800.434959\n",
       "1458  2919  208203.853240\n",
       "\n",
       "[1459 rows x 2 columns]"
      ]
     },
     "execution_count": 1446,
     "metadata": {},
     "output_type": "execute_result"
    }
   ],
   "source": [
    "df"
   ]
  },
  {
   "cell_type": "code",
   "execution_count": 1447,
   "id": "f092bd0e",
   "metadata": {},
   "outputs": [],
   "source": [
    "df.to_csv(\"/Users/linuskratz/Downloads/house-prices-advanced-regression-techniques/svr_scaled.csv\", index = False)"
   ]
  }
 ],
 "metadata": {
  "kernelspec": {
   "display_name": "Python 3",
   "language": "python",
   "name": "python3"
  },
  "language_info": {
   "codemirror_mode": {
    "name": "ipython",
    "version": 3
   },
   "file_extension": ".py",
   "mimetype": "text/x-python",
   "name": "python",
   "nbconvert_exporter": "python",
   "pygments_lexer": "ipython3",
   "version": "3.8.8"
  }
 },
 "nbformat": 4,
 "nbformat_minor": 5
}
