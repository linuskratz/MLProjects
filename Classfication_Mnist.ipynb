{
 "cells": [
  {
   "cell_type": "code",
   "execution_count": 1,
   "metadata": {
    "id": "8OpVuocEcc7h"
   },
   "outputs": [],
   "source": [
    "import sklearn \n",
    "import numpy as np\n",
    "from sklearn.datasets import fetch_openml"
   ]
  },
  {
   "cell_type": "code",
   "execution_count": 2,
   "metadata": {
    "id": "M4rVyIk0cirh"
   },
   "outputs": [],
   "source": [
    "#fetching the mnist dataset, the dataset contains 28*28 images of digits and their respective labels\n",
    "mnist = fetch_openml(\"mnist_784\", version =1)"
   ]
  },
  {
   "cell_type": "code",
   "execution_count": 3,
   "metadata": {
    "colab": {
     "base_uri": "https://localhost:8080/"
    },
    "id": "UqYJEOwccra6",
    "outputId": "adbe523a-3f18-429c-b7fb-2157e32a0e2f"
   },
   "outputs": [
    {
     "data": {
      "text/plain": [
       "dict_keys(['data', 'target', 'frame', 'categories', 'feature_names', 'target_names', 'DESCR', 'details', 'url'])"
      ]
     },
     "execution_count": 3,
     "metadata": {},
     "output_type": "execute_result"
    }
   ],
   "source": [
    "mnist.keys()"
   ]
  },
  {
   "cell_type": "code",
   "execution_count": 43,
   "metadata": {
    "id": "AVNJZAFSdPef"
   },
   "outputs": [],
   "source": [
    "X, Y = mnist [\"data\"], mnist[\"target\"]"
   ]
  },
  {
   "cell_type": "code",
   "execution_count": 44,
   "metadata": {},
   "outputs": [],
   "source": [
    "Y = Y.astype(int)"
   ]
  },
  {
   "cell_type": "code",
   "execution_count": 45,
   "metadata": {
    "id": "IFCp7hrUeFTa"
   },
   "outputs": [],
   "source": [
    "#scaling of the images to make classifier work better\n",
    "from sklearn.preprocessing import StandardScaler"
   ]
  },
  {
   "cell_type": "code",
   "execution_count": 46,
   "metadata": {
    "id": "qkjmtQOkedVF"
   },
   "outputs": [],
   "source": [
    "scaler = StandardScaler()"
   ]
  },
  {
   "cell_type": "code",
   "execution_count": 47,
   "metadata": {
    "colab": {
     "base_uri": "https://localhost:8080/"
    },
    "id": "giqRsd12epdp",
    "outputId": "e1d3137d-3f0c-41ae-94d1-625a981d7d10"
   },
   "outputs": [
    {
     "data": {
      "text/plain": [
       "StandardScaler()"
      ]
     },
     "execution_count": 47,
     "metadata": {},
     "output_type": "execute_result"
    }
   ],
   "source": [
    "scaler.fit(X)"
   ]
  },
  {
   "cell_type": "code",
   "execution_count": 48,
   "metadata": {
    "id": "Oc03S7o6e9-X"
   },
   "outputs": [],
   "source": [
    "X_new = scaler.transform(X)"
   ]
  },
  {
   "cell_type": "code",
   "execution_count": 49,
   "metadata": {
    "id": "sbtLz897gOV5"
   },
   "outputs": [],
   "source": [
    "# splitting into test and train dataset \n",
    "# with the mnist dataset the split is already set with [:60000], shuffling is not necessary"
   ]
  },
  {
   "cell_type": "code",
   "execution_count": 102,
   "metadata": {
    "id": "SoMfRK9BgVR4"
   },
   "outputs": [],
   "source": [
    "X_train_small, Y_train_small = X_new[:10000], Y[:10000]"
   ]
  },
  {
   "cell_type": "code",
   "execution_count": 103,
   "metadata": {
    "id": "oSodc_EIgx9Z"
   },
   "outputs": [],
   "source": [
    "X_test, Y_test = X_new[60000:], Y[60000:]"
   ]
  },
  {
   "cell_type": "code",
   "execution_count": 105,
   "metadata": {
    "id": "mv3K13hbhBpN"
   },
   "outputs": [],
   "source": [
    "#grid search for optimal hyperparameters for n_neighbors and weights"
   ]
  },
  {
   "cell_type": "code",
   "execution_count": 106,
   "metadata": {
    "id": "95VyJCumc-St"
   },
   "outputs": [],
   "source": [
    "from sklearn.neighbors import KNeighborsClassifier"
   ]
  },
  {
   "cell_type": "code",
   "execution_count": 107,
   "metadata": {
    "id": "QkLRrv-Ufk3u"
   },
   "outputs": [],
   "source": [
    "classifier = KNeighborsClassifier()"
   ]
  },
  {
   "cell_type": "code",
   "execution_count": 108,
   "metadata": {
    "id": "abZLx4QgiTlW"
   },
   "outputs": [],
   "source": [
    "from sklearn.model_selection import GridSearchCV"
   ]
  },
  {
   "cell_type": "code",
   "execution_count": 109,
   "metadata": {
    "id": "-VL4M7wxiY_K"
   },
   "outputs": [],
   "source": [
    "grid_param = [{\"n_neighbors\":[4, 5, 6], \"weights\": [\"uniform\", \"distance\"]}]"
   ]
  },
  {
   "cell_type": "code",
   "execution_count": 110,
   "metadata": {
    "id": "53CtwWt9jFKU"
   },
   "outputs": [],
   "source": [
    "grid_Search = GridSearchCV(classifier, grid_param , return_train_score=True)"
   ]
  },
  {
   "cell_type": "code",
   "execution_count": 111,
   "metadata": {
    "id": "YsCMMscQkAr1"
   },
   "outputs": [
    {
     "name": "stdout",
     "output_type": "stream",
     "text": [
      "47.261730909347534\n"
     ]
    }
   ],
   "source": [
    "# the grid search on part on the first 10000 entries of the dataset yields better scores for weights = distance\n",
    "# and optimal n neighbors in the range 4-6\n",
    "# for the sake of training time I only trained with the whole dataset on n_neighbors = 5 and weights = distance\n",
    "import time\n",
    "start = time.time()\n",
    "grid_Search.fit(X_train_small, Y_train_small)\n",
    "end = time.time()\n",
    "print(end-start)"
   ]
  },
  {
   "cell_type": "code",
   "execution_count": 112,
   "metadata": {},
   "outputs": [
    {
     "data": {
      "text/plain": [
       "{'mean_fit_time': array([0.01575203, 0.01219835, 0.01257   , 0.0122478 , 0.0122725 ,\n",
       "        0.0123312 ]),\n",
       " 'std_fit_time': array([0.00659185, 0.0001346 , 0.00071091, 0.00013488, 0.00020239,\n",
       "        0.000175  ]),\n",
       " 'mean_score_time': array([0.37373185, 0.3434937 , 0.35696449, 0.34688754, 0.36082969,\n",
       "        0.34428358]),\n",
       " 'std_score_time': array([0.01212464, 0.01531721, 0.01317216, 0.01526749, 0.01022908,\n",
       "        0.01610887]),\n",
       " 'param_n_neighbors': masked_array(data=[4, 4, 5, 5, 6, 6],\n",
       "              mask=[False, False, False, False, False, False],\n",
       "        fill_value='?',\n",
       "             dtype=object),\n",
       " 'param_weights': masked_array(data=['uniform', 'distance', 'uniform', 'distance',\n",
       "                    'uniform', 'distance'],\n",
       "              mask=[False, False, False, False, False, False],\n",
       "        fill_value='?',\n",
       "             dtype=object),\n",
       " 'params': [{'n_neighbors': 4, 'weights': 'uniform'},\n",
       "  {'n_neighbors': 4, 'weights': 'distance'},\n",
       "  {'n_neighbors': 5, 'weights': 'uniform'},\n",
       "  {'n_neighbors': 5, 'weights': 'distance'},\n",
       "  {'n_neighbors': 6, 'weights': 'uniform'},\n",
       "  {'n_neighbors': 6, 'weights': 'distance'}],\n",
       " 'split0_test_score': array([0.896 , 0.9065, 0.901 , 0.902 , 0.9   , 0.9055]),\n",
       " 'split1_test_score': array([0.9145, 0.926 , 0.918 , 0.922 , 0.9155, 0.926 ]),\n",
       " 'split2_test_score': array([0.8985, 0.907 , 0.9005, 0.903 , 0.9005, 0.905 ]),\n",
       " 'split3_test_score': array([0.9025, 0.9115, 0.905 , 0.9075, 0.901 , 0.9085]),\n",
       " 'split4_test_score': array([0.891 , 0.898 , 0.896 , 0.8985, 0.892 , 0.8985]),\n",
       " 'mean_test_score': array([0.9005, 0.9098, 0.9041, 0.9066, 0.9018, 0.9087]),\n",
       " 'std_test_score': array([0.00793095, 0.00920109, 0.00751266, 0.00821827, 0.00760658,\n",
       "        0.00924446]),\n",
       " 'rank_test_score': array([6, 1, 4, 3, 5, 2], dtype=int32),\n",
       " 'split0_train_score': array([0.946   , 1.      , 0.941125, 1.      , 0.937125, 1.      ]),\n",
       " 'split1_train_score': array([0.941875, 1.      , 0.9385  , 1.      , 0.931375, 1.      ]),\n",
       " 'split2_train_score': array([0.942875, 1.      , 0.939375, 1.      , 0.934125, 1.      ]),\n",
       " 'split3_train_score': array([0.94325 , 1.      , 0.940125, 1.      , 0.935375, 1.      ]),\n",
       " 'split4_train_score': array([0.94425 , 1.      , 0.941375, 1.      , 0.933375, 1.      ]),\n",
       " 'mean_train_score': array([0.94365 , 1.      , 0.9401  , 1.      , 0.934275, 1.      ]),\n",
       " 'std_train_score': array([0.00139955, 0.        , 0.00107355, 0.        , 0.00192743,\n",
       "        0.        ])}"
      ]
     },
     "execution_count": 112,
     "metadata": {},
     "output_type": "execute_result"
    }
   ],
   "source": [
    "grid_Search.cv_results_"
   ]
  },
  {
   "cell_type": "code",
   "execution_count": null,
   "metadata": {},
   "outputs": [],
   "source": [
    "# training the Kneighborsclassifier with n = 5 and weights = distance"
   ]
  },
  {
   "cell_type": "code",
   "execution_count": 113,
   "metadata": {},
   "outputs": [
    {
     "data": {
      "text/plain": [
       "KNeighborsClassifier(weights='distance')"
      ]
     },
     "execution_count": 113,
     "metadata": {},
     "output_type": "execute_result"
    }
   ],
   "source": [
    "classifier.set_params(n_neighbors = 5,weights = \"distance\")"
   ]
  },
  {
   "cell_type": "code",
   "execution_count": 115,
   "metadata": {},
   "outputs": [
    {
     "name": "stdout",
     "output_type": "stream",
     "text": [
      "0.010926961898803711\n"
     ]
    }
   ],
   "source": [
    "#grid search takes a lot more time than fitting with pre-set parameters\n",
    "# all the combinations of hyperparameters no longer need to be tested \n",
    "start = time.time()\n",
    "classifier.fit(X_train_small,  Y_train_small)\n",
    "end = time.time()\n",
    "print(end-start)"
   ]
  },
  {
   "cell_type": "code",
   "execution_count": 118,
   "metadata": {},
   "outputs": [
    {
     "data": {
      "text/plain": [
       "KNeighborsClassifier(weights='distance')"
      ]
     },
     "execution_count": 118,
     "metadata": {},
     "output_type": "execute_result"
    }
   ],
   "source": [
    "#train the classifier on the whole dataset \n",
    "X_train, Y_train = X_new[:60000], Y[:60000]\n",
    "classifier.fit(X_train,  Y_train)"
   ]
  },
  {
   "cell_type": "code",
   "execution_count": null,
   "metadata": {
    "id": "7mmeLQAJfk_x"
   },
   "outputs": [],
   "source": [
    "#Error analysis with the help of a confusion matrix"
   ]
  },
  {
   "cell_type": "code",
   "execution_count": 120,
   "metadata": {},
   "outputs": [],
   "source": [
    "from sklearn.model_selection import cross_val_predict\n",
    "\n",
    "Y_train_predict = cross_val_predict(classifier, X_train, Y_train, cv = 3)"
   ]
  },
  {
   "cell_type": "code",
   "execution_count": 124,
   "metadata": {},
   "outputs": [
    {
     "data": {
      "text/plain": [
       "array([0, 1, 2, 3, 4, 5, 6, 7, 8, 9])"
      ]
     },
     "execution_count": 124,
     "metadata": {},
     "output_type": "execute_result"
    }
   ],
   "source": [
    "classifier.classes_"
   ]
  },
  {
   "cell_type": "code",
   "execution_count": 123,
   "metadata": {},
   "outputs": [
    {
     "data": {
      "text/plain": [
       "array([[5820,    5,   16,    5,    1,   21,   42,    5,    5,    3],\n",
       "       [   2, 6664,   18,   10,    8,    5,   17,   10,    4,    4],\n",
       "       [  62,   63, 5519,   93,   35,   11,   54,   57,   40,   24],\n",
       "       [  12,   26,   47, 5783,    4,   83,    8,   70,   61,   37],\n",
       "       [   6,   69,   49,    7, 5408,   18,   27,   32,   10,  216],\n",
       "       [  26,   13,   12,  153,   13, 4991,   96,   12,   51,   54],\n",
       "       [  60,   13,   16,    4,   12,   46, 5757,    1,    9,    0],\n",
       "       [  11,   57,   24,   16,   61,    2,    0, 5866,    4,  224],\n",
       "       [  46,   83,   35,  104,   38,  192,   36,   20, 5216,   81],\n",
       "       [  18,   10,   18,   48,  117,   13,    1,  208,   19, 5497]])"
      ]
     },
     "execution_count": 123,
     "metadata": {},
     "output_type": "execute_result"
    }
   ],
   "source": [
    "# the confusion matrix shows how many digits are correctly predicted \n",
    "# e.g. row 0, column 0 shows how many 0 are predicted correctly \n",
    "# row 0, colum 1 shows how many 0's are wrongly predicted to be 1's\n",
    "from sklearn.metrics import confusion_matrix\n",
    "conf_matrix = confusion_matrix(Y_train, y_train_predict)\n",
    "conf_matrix"
   ]
  },
  {
   "cell_type": "code",
   "execution_count": 130,
   "metadata": {},
   "outputs": [
    {
     "data": {
      "text/plain": [
       "array([[9.82610164e-01, 7.41619697e-04, 2.68546492e-03, 8.15527646e-04,\n",
       "        1.71174255e-04, 3.87382402e-03, 7.09699223e-03, 7.98084597e-04,\n",
       "        8.54554777e-04, 5.04286435e-04],\n",
       "       [3.37666723e-04, 9.88430733e-01, 3.02114804e-03, 1.63105529e-03,\n",
       "        1.36939404e-03, 9.22339052e-04, 2.87259209e-03, 1.59616919e-03,\n",
       "        6.83643822e-04, 6.72381913e-04],\n",
       "       [1.04676684e-02, 9.34440819e-03, 9.26317556e-01, 1.51688142e-02,\n",
       "        5.99109894e-03, 2.02914591e-03, 9.12470429e-03, 9.09816441e-03,\n",
       "        6.83643822e-03, 4.03429148e-03],\n",
       "       [2.02600034e-03, 3.85642243e-03, 7.88855321e-03, 9.43239276e-01,\n",
       "        6.84697022e-04, 1.53108283e-02, 1.35180804e-03, 1.11731844e-02,\n",
       "        1.04255683e-02, 6.21953269e-03],\n",
       "       [1.01300017e-03, 1.02343518e-02, 8.22423632e-03, 1.14173870e-03,\n",
       "        9.25710373e-01, 3.32042059e-03, 4.56235215e-03, 5.10774142e-03,\n",
       "        1.70910955e-03, 3.63086233e-02],\n",
       "       [4.38966740e-03, 1.92821121e-03, 2.01409869e-03, 2.49551460e-02,\n",
       "        2.22526532e-03, 9.20678842e-01, 1.62216965e-02, 1.91540303e-03,\n",
       "        8.71645873e-03, 9.07715582e-03],\n",
       "       [1.01300017e-02, 1.92821121e-03, 2.68546492e-03, 6.52422117e-04,\n",
       "        2.05409106e-03, 8.48551928e-03, 9.72794863e-01, 1.59616919e-04,\n",
       "        1.53819860e-03, 0.00000000e+00],\n",
       "       [1.85716698e-03, 8.45446455e-03, 4.02819738e-03, 2.60968847e-03,\n",
       "        1.04416296e-02, 3.68935621e-04, 0.00000000e+00, 9.36312849e-01,\n",
       "        6.83643822e-04, 3.76533871e-02],\n",
       "       [7.76633463e-03, 1.23108870e-02, 5.87445451e-03, 1.69629750e-02,\n",
       "        6.50462170e-03, 3.54178196e-02, 6.08313619e-03, 3.19233839e-03,\n",
       "        8.91471543e-01, 1.36157337e-02],\n",
       "       [3.03900051e-03, 1.48323939e-03, 3.02114804e-03, 7.82906541e-03,\n",
       "        2.00273879e-02, 2.39808153e-03, 1.68976005e-04, 3.32003192e-02,\n",
       "        3.24730815e-03, 9.24020844e-01]])"
      ]
     },
     "execution_count": 130,
     "metadata": {},
     "output_type": "execute_result"
    }
   ],
   "source": [
    "#receive the percentages for each confusion matrix entry\n",
    "row_sums = conf_matrix.sum(axis = 1)\n",
    "percent_conf = conf_matrix / row_sums \n",
    "percent_conf"
   ]
  },
  {
   "cell_type": "code",
   "execution_count": 133,
   "metadata": {},
   "outputs": [],
   "source": [
    "precent_correctly_predicted = {}\n",
    "for i in range(10):\n",
    "    precent_correctly_predicted[i] = percent_conf[i][i] * 100"
   ]
  },
  {
   "cell_type": "code",
   "execution_count": 134,
   "metadata": {},
   "outputs": [
    {
     "data": {
      "text/plain": [
       "{0: 98.26101637683607,\n",
       " 1: 98.8430732720261,\n",
       " 2: 92.63175562269218,\n",
       " 3: 94.323927581145,\n",
       " 4: 92.57103731598768,\n",
       " 5: 92.06788415421508,\n",
       " 6: 97.27948631294356,\n",
       " 7: 93.63128491620112,\n",
       " 8: 89.14715433259272,\n",
       " 9: 92.40208438393007}"
      ]
     },
     "execution_count": 134,
     "metadata": {},
     "output_type": "execute_result"
    }
   ],
   "source": [
    "precent_correctly_predicted"
   ]
  },
  {
   "cell_type": "code",
   "execution_count": null,
   "metadata": {},
   "outputs": [],
   "source": [
    "from statistics import mean\n",
    "average = mean(list(precent_correctly_predicted.values()))\n",
    "average"
   ]
  },
  {
   "cell_type": "code",
   "execution_count": null,
   "metadata": {},
   "outputs": [],
   "source": [
    "# save model \n",
    "import pickle\n",
    "file_name = 'mnist_Kneighbors_model.sav'\n",
    "pickle.dump(classifier, open(file_name, 'wb'))"
   ]
  },
  {
   "cell_type": "code",
   "execution_count": 2,
   "metadata": {},
   "outputs": [],
   "source": [
    "# load model \n",
    "import pickle\n",
    "file_name = 'mnist_Kneighbors_model.sav'\n",
    "classifier = pickle.load(open(file_name, 'rb')) "
   ]
  }
 ],
 "metadata": {
  "colab": {
   "collapsed_sections": [],
   "name": "Classfication_Mnist.ipynb",
   "provenance": []
  },
  "kernelspec": {
   "display_name": "Python 3",
   "language": "python",
   "name": "python3"
  },
  "language_info": {
   "codemirror_mode": {
    "name": "ipython",
    "version": 3
   },
   "file_extension": ".py",
   "mimetype": "text/x-python",
   "name": "python",
   "nbconvert_exporter": "python",
   "pygments_lexer": "ipython3",
   "version": "3.8.8"
  }
 },
 "nbformat": 4,
 "nbformat_minor": 1
}
